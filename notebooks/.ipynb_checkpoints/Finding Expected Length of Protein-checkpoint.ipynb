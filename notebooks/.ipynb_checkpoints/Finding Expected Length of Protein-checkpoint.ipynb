{
 "cells": [
  {
   "cell_type": "markdown",
   "metadata": {},
   "source": [
    "# Purpose\n",
    "\n",
    "There are 64 different codons that can be created by a triplet of mRNA for one particular reading frame. We want to find the expected distance of amino acids between the start and stop codons when given a uniform distribution of choosing a particular RNA.\n",
    "\n",
    "`AUG` in the mRNA translates into the amino acid methionine: \n",
    "\n",
    "![methionine](images/methionine.png)\n",
    "\n",
    "`UAA`, `UAG`, and `UGA` encode the stop codon, which tells ribosomes to stop translation.\n",
    "\n",
    "## TODO:\n",
    "\n",
    "- this model seems overly simplistic"
   ]
  },
  {
   "cell_type": "markdown",
   "metadata": {},
   "source": [
    "---\n",
    "\n",
    "Begin by randomly appending ribonucleotides to an array, each picked from a uniform distribution. Begin counting then length of the sequence when `A`, `U` and `G` are appended consecutively and stop counting when either one of the stop codons appear. \n",
    "\n",
    "Repeat this initially with 1,000 trials and see what you get."
   ]
  },
  {
   "cell_type": "code",
   "execution_count": 55,
   "metadata": {
    "collapsed": true
   },
   "outputs": [],
   "source": [
    "import numpy as np\n",
    "\n",
    "lookup_rna = { 0: 'A', 1: 'G', 2: 'U', 3: 'C' }\n",
    "\n",
    "def random_rna():\n",
    "    \"\"\"\n",
    "    Function for generating random RNA.\n",
    "    \"\"\"\n",
    "    r = np.floor(np.random.uniform(0, 4))\n",
    "    return lookup_rna[r]"
   ]
  },
  {
   "cell_type": "markdown",
   "metadata": {},
   "source": [
    "Check uniform distribution."
   ]
  },
  {
   "cell_type": "code",
   "execution_count": 56,
   "metadata": {
    "collapsed": false
   },
   "outputs": [
    {
     "data": {
      "text/plain": [
       "<matplotlib.axes._subplots.AxesSubplot at 0x10c008780>"
      ]
     },
     "execution_count": 56,
     "metadata": {},
     "output_type": "execute_result"
    },
    {
     "data": {
      "image/png": "[encoded data removed]",
      "text/plain": [
       "<matplotlib.figure.Figure at 0x10c69a9e8>"
      ]
     },
     "metadata": {},
     "output_type": "display_data"
    }
   ],
   "source": [
    "%matplotlib inline\n",
    "import matplotlib.pyplot as plt\n",
    "import pandas as pd\n",
    "from collections import Counter\n",
    "\n",
    "samples = []\n",
    "N = 10000\n",
    "\n",
    "for i in range(0, N):\n",
    "    samples.append(random_rna())\n",
    "\n",
    "rna_counts = Counter(samples)\n",
    "\n",
    "df = pd.DataFrame.from_dict(rna_counts, orient='index')\n",
    "df.plot(kind='bar', \n",
    "        title=\"Frequency Distribution of Uniformly Sampled RNA\", \n",
    "        figsize=(6, 6),\n",
    "        grid=True)"
   ]
  },
  {
   "cell_type": "markdown",
   "metadata": {},
   "source": [
    "Ok. This is good. Now we'll begin building our mRNA."
   ]
  },
  {
   "cell_type": "code",
   "execution_count": 89,
   "metadata": {
    "collapsed": false
   },
   "outputs": [],
   "source": [
    "cum_lengths = []\n",
    "cum_buffers = []\n",
    "\n",
    "for i in range(0, 10000):\n",
    "\n",
    "    rna_buffer = []\n",
    "    start_count = False\n",
    "    rna_length = 0\n",
    "    \n",
    "    while True:\n",
    "        to_add = random_rna()\n",
    "        rna_buffer.append(to_add)\n",
    "        \n",
    "        if rna_buffer[-3:] == ['A', 'U', 'G'] and start_count is False:\n",
    "            start_count = True\n",
    "        \n",
    "        if start_count is True:\n",
    "            rna_length += 1\n",
    "        \n",
    "        if (rna_buffer[-3:] == ['U', 'A', 'A'] or rna_buffer[-3:] == ['U', 'A', 'G'] \\\n",
    "            or rna_buffer == ['U', 'G', 'A']) and start_count == True:\n",
    "            cum_lengths.append(rna_length)\n",
    "            cum_buffers.append(rna_buffer)\n",
    "            break"
   ]
  },
  {
   "cell_type": "code",
   "execution_count": 191,
   "metadata": {
    "collapsed": false
   },
   "outputs": [
    {
     "data": {
      "text/plain": [
       "<matplotlib.text.Text at 0x111d0d208>"
      ]
     },
     "execution_count": 191,
     "metadata": {},
     "output_type": "execute_result"
    },
    {
     "data": {
      "image/png": "[encoded data removed]",
      "text/plain": [
       "<matplotlib.figure.Figure at 0x11113feb8>"
      ]
     },
     "metadata": {},
     "output_type": "display_data"
    }
   ],
   "source": [
    "plt.figure(figsize=(8, 6))\n",
    "plt.hist(cum_lengths, bins=30, color=\"k\", alpha=0.8)\n",
    "plt.grid(True)\n",
    "plt.ylabel(\"Frequency\")\n",
    "plt.xlabel(\"Number of mRNA apart\")\n",
    "plt.title(\"Distances between start and stop codons with mRNA \\n \\\n",
    "          from uniform distribution (10,000 trials)\")"
   ]
  },
  {
   "cell_type": "markdown",
   "metadata": {},
   "source": [
    "Fit an exponential curve."
   ]
  },
  {
   "cell_type": "code",
   "execution_count": 192,
   "metadata": {
    "collapsed": false
   },
   "outputs": [],
   "source": [
    "from scipy.optimize import curve_fit\n",
    "\n",
    "def exp_func(x, a, b, c):\n",
    "    return a * np.exp(-b * x) + c\n",
    "\n",
    "length_counts = Counter(cum_lengths)\n",
    "\n",
    "x = list(length_counts.keys())\n",
    "y = list(length_counts.values())"
   ]
  },
  {
   "cell_type": "code",
   "execution_count": 193,
   "metadata": {
    "collapsed": false,
    "scrolled": true
   },
   "outputs": [
    {
     "name": "stderr",
     "output_type": "stream",
     "text": [
      "/usr/local/lib/python3.6/site-packages/ipykernel/__main__.py:4: RuntimeWarning: overflow encountered in exp\n"
     ]
    }
   ],
   "source": [
    "popt, pcov = curve_fit(exp_func, x, y)"
   ]
  },
  {
   "cell_type": "code",
   "execution_count": 194,
   "metadata": {
    "collapsed": false
   },
   "outputs": [
    {
     "data": {
      "text/plain": [
       "array([  3.80300017e+02,   3.34494540e-02,  -4.27268156e-01])"
      ]
     },
     "execution_count": 194,
     "metadata": {},
     "output_type": "execute_result"
    }
   ],
   "source": [
    "popt"
   ]
  },
  {
   "cell_type": "code",
   "execution_count": 195,
   "metadata": {
    "collapsed": false
   },
   "outputs": [],
   "source": [
    "y_pred = []\n",
    "for i in x:\n",
    "    y_pred.append(exp_func(i, *popt))"
   ]
  },
  {
   "cell_type": "code",
   "execution_count": 197,
   "metadata": {
    "collapsed": false,
    "scrolled": true
   },
   "outputs": [
    {
     "data": {
      "text/plain": [
       "<matplotlib.legend.Legend at 0x1121a2a20>"
      ]
     },
     "execution_count": 197,
     "metadata": {},
     "output_type": "execute_result"
    },
    {
     "data": {
      "image/png": "[encoded data removed]",
      "text/plain": [
       "<matplotlib.figure.Figure at 0x1116d5048>"
      ]
     },
     "metadata": {},
     "output_type": "display_data"
    }
   ],
   "source": [
    "plt.figure(figsize=(8, 6))\n",
    "plt.plot(x, y, 'ko', label='Original')\n",
    "plt.plot(x, y_pred, 'ro',  label=\"Fitted Curve\")\n",
    "plt.ylabel(\"Frequency\")\n",
    "plt.xlabel(\"Number of mRNA apart\")\n",
    "plt.legend()"
   ]
  },
  {
   "cell_type": "markdown",
   "metadata": {},
   "source": [
    "When fit to the exponential curve, the expected length of the mRNA between the start and stop codons is $E[ length | \\lambda] = \\frac{1}{\\lambda}$. So then since $\\lambda = 0.0334494540$, $E[ length | \\lambda]$ is"
   ]
  },
  {
   "cell_type": "code",
   "execution_count": 198,
   "metadata": {
    "collapsed": false
   },
   "outputs": [
    {
     "data": {
      "text/plain": [
       "29.895854236181467"
      ]
     },
     "execution_count": 198,
     "metadata": {},
     "output_type": "execute_result"
    }
   ],
   "source": [
    "1/popt[1]"
   ]
  },
  {
   "cell_type": "markdown",
   "metadata": {},
   "source": [
    "# Conclusion\n",
    "\n",
    "The expected distance of amino acids between the start and stop codons is 30, if the mRNA are randomly sampled from a uniform distribution.\n",
    "\n",
    "### Further work\n",
    "\n",
    "- ..."
   ]
  }
 ],
 "metadata": {
  "kernelspec": {
   "display_name": "Python 3",
   "language": "python",
   "name": "python3"
  },
  "language_info": {
   "codemirror_mode": {
    "name": "ipython",
    "version": 3
   },
   "file_extension": ".py",
   "mimetype": "text/x-python",
   "name": "python",
   "nbconvert_exporter": "python",
   "pygments_lexer": "ipython3",
   "version": "3.6.3"
  }
 },
 "nbformat": 4,
 "nbformat_minor": 1
}
